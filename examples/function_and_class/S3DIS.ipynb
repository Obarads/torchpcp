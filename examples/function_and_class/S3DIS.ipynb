{
 "cells": [
  {
   "cell_type": "markdown",
   "metadata": {},
   "source": [
    "# S3DIS examples\n",
    "- This code is examples of `torchpcp.datasets.S3DIS.S3DIS`."
   ]
  },
  {
   "cell_type": "markdown",
   "metadata": {},
   "source": [
    "## install a package\n",
    "- [k3d](https://github.com/K3D-tools/K3D-jupyter): visualizer"
   ]
  },
  {
   "cell_type": "markdown",
   "metadata": {},
   "source": [
    "## import packages and define values\n",
    "- dataset_path: dataset path of [S3DIS](https://openaccess.thecvf.com/content_cvpr_2016/papers/Armeni_3D_Semantic_Parsing_CVPR_2016_paper.pdf)"
   ]
  },
  {
   "cell_type": "code",
   "execution_count": 1,
   "metadata": {},
   "outputs": [],
   "source": [
    "%reload_ext autoreload\n",
    "%autoreload 2\n",
    "\n",
    "import os, sys\n",
    "# BASE_DIR = os.path.dirname(os.path.abspath(__file__)) # for .py\n",
    "BASE_DIR = os.path.abspath('./') # for .ipynb\n",
    "sys.path.append(os.path.abspath(os.path.join(BASE_DIR, \"../../\"))) # for torchpcp package path\n",
    "\n",
    "from torchpcp.datasets.S3DIS import S3DIS\n",
    "from torchpcp.datasets.S3DIS.utils.indoor3d_util import room2blocks_wrapper_normalized\n",
    "from torchpcp.datasets.ASIS.S3DIS import Preprocessing\n",
    "\n",
    "from torchpcp.utils.io.ply import write_pc_label\n",
    "import k3d\n",
    "import numpy as np\n"
   ]
  },
  {
   "cell_type": "markdown",
   "metadata": {},
   "source": [
    "## preprocess S3DIS dataset\n",
    "- In order to use the dataset, you need to preprocess data of `Stanford3dDataset_v1.2_Aligned_Version`.\n",
    "- This preprocessing is the same method that [WXinlong/ASIS](https://github.com/WXinlong/ASIS) utilizes.\n",
    "- I call preprocessed datasets S3DIS scene and block dataset. \n",
    "- The difference between these preprocessed datasets is below.\n",
    "    - S3DIS scene dataset : Dataset including coords, colors, semantic and instance label in scene (e.g. room).\n",
    "    - S3DIS block dataset : Dataset including divided data (block) for the input of deep learning model (ASIS, JSNet ... etc.)."
   ]
  },
  {
   "cell_type": "code",
   "execution_count": 2,
   "metadata": {},
   "outputs": [],
   "source": [
    "# define dataset path\n",
    "dataset_path = \"/home/coder/databox1/datasets/S3DIS/Stanford3dDataset_v1.2_Aligned_Version/\" # S3DIS path\n",
    "output_path = \"data/\" # output (preprocessed dataset) path\n",
    "\n",
    "# scene dataset path\n",
    "scene_output_path = os.path.join(output_path, \"scenesa\")\n",
    "\n",
    "# block dataset path\n",
    "block_output_path = os.path.join(output_path, \"blocksa\")"
   ]
  },
  {
   "cell_type": "markdown",
   "metadata": {},
   "source": [
    "`Preprocessing.create_scene_dataset(dataset_path, scene_output_path)` is data preprocessing function.  \n",
    "This function create scene point cloud files that have coords,colors, semantic and instace labels."
   ]
  },
  {
   "cell_type": "code",
   "execution_count": null,
   "metadata": {},
   "outputs": [],
   "source": [
    "# create S3DIS scene dataset\n",
    "# make a dir.\n",
    "os.makedirs(scene_output_path, exist_ok=True)\n",
    "# create a scene dataset\n",
    "Preprocessing.create_scene_dataset(dataset_path, scene_output_path)\n",
    "print(\"Finish creating S3DIS scene dataset.\")"
   ]
  },
  {
   "cell_type": "markdown",
   "metadata": {},
   "source": [
    "`Preprocessing.create_block_dataset(scene_output_path, block_output_path, num_points, block_size, stride)` is data preprocessing function.  \n",
    "This function create block point cloud files from scene point cloud files (created by Preprocessing.create_scene_dataset). These files have coords, colors, semantic and instance labels.  \n",
    "\"block\" mean section of `block_size` x `block_size` size.  \n",
    "This function args is as follows.\n",
    "- scene_output_path: a dir path of scene point cloud files\n",
    "- block_output_path: a dir path of block point cloud files (output dir)\n",
    "- num_points: number of points in a block\n",
    "- block_size: block size\n",
    "- stride: distance to shift a section"
   ]
  },
  {
   "cell_type": "code",
   "execution_count": null,
   "metadata": {},
   "outputs": [],
   "source": [
    "# S3DIS block dataset\n",
    "# define paths and params\n",
    "num_points = 4096\n",
    "block_size = 1.0\n",
    "stride = 0.5\n",
    "# make a dir.\n",
    "os.makedirs(block_output_path, exist_ok=True)\n",
    "# create a block dataset\n",
    "Preprocessing.create_block_dataset(scene_output_path, block_output_path, \n",
    "                                   num_points, block_size, stride)\n",
    "print(\"Finish creating S3DIS block dataset.\")"
   ]
  },
  {
   "cell_type": "markdown",
   "metadata": {},
   "source": [
    "## Using a S3DIS block dataset and visualizing a block point cloud\n",
    "- `dataset_path` is path of S3DIS dataset dir created by `torchpcp.datasets.S3DIS.S3DIS.Preprocessing.create_block_dataset`."
   ]
  },
  {
   "cell_type": "code",
   "execution_count": 9,
   "metadata": {},
   "outputs": [
    {
     "name": "stdout",
     "output_type": "stream",
     "text": [
      "point cloud shape: (4096, 9)\n",
      "semantic label shape: (4096,)\n",
      "instance label shape: (4096,)\n",
      "scene data path and block index: ['/home/coder/databox1/datasets/S3DIS/ASIS/S3DIS/4096/blocks/Area_1_WC_1.h5', 0]\n"
     ]
    },
    {
     "name": "stderr",
     "output_type": "stream",
     "text": [
      "/home/coder/anaconda3/envs/py37/lib/python3.7/site-packages/traittypes/traittypes.py:101: UserWarning: Given trait value dtype \"float32\" does not match required type \"uint32\". A coerced copy has been created.\n",
      "  np.dtype(self.dtype).name))\n"
     ]
    },
    {
     "data": {
      "application/vnd.jupyter.widget-view+json": {
       "model_id": "948970076bdd42f3801f116c0dd8f4a3",
       "version_major": 2,
       "version_minor": 0
      },
      "text/plain": [
       "Output()"
      ]
     },
     "metadata": {},
     "output_type": "display_data"
    }
   ],
   "source": [
    "train_dataset = S3DIS.S3DISBlockDataset(\n",
    "    dataset_path=\"/home/coder/databox1/datasets/S3DIS/ASIS/S3DIS/4096/blocks/\",\n",
    "    num_points=4096,\n",
    "    split=\"train\",\n",
    "    test_area=5\n",
    ")\n",
    "\n",
    "# get block data\n",
    "point_cloud, sem_labels, ins_labels, datainfo = train_dataset[0]\n",
    "\n",
    "print(\"point cloud shape:\", point_cloud.shape)\n",
    "print(\"semantic label shape:\", sem_labels.shape)\n",
    "print(\"instance label shape:\", ins_labels.shape)\n",
    "print(\"scene data path and block index:\", datainfo)\n",
    "\n",
    "# get coords\n",
    "coords = point_cloud[:, 0:3]\n",
    "# get color codes\n",
    "colors = point_cloud[:, 3:6] * 255\n",
    "colors = colors.astype(np.int32)\n",
    "colors = colors[:, 0]*256*256 + colors[:,1]*256 + colors[:,2] # to color code\n",
    "\n",
    "# visualize point cloud\n",
    "plot = k3d.plot()\n",
    "points = k3d.points(coords, colors.astype(np.float32), point_size=0.02, shader='flat')\n",
    "plot += points\n",
    "plot.display()\n"
   ]
  },
  {
   "cell_type": "markdown",
   "metadata": {},
   "source": [
    "## Using a S3DIS scene dataset and visualizing a scene point cloud\n",
    "- `dataset_path` is a path of S3DIS dataset dir created by `torchpcp.datasets.S3DIS.S3DIS.Preprocessing.create_scene_dataset`."
   ]
  },
  {
   "cell_type": "code",
   "execution_count": 4,
   "metadata": {},
   "outputs": [
    {
     "name": "stdout",
     "output_type": "stream",
     "text": [
      "point cloud shape: (1535040, 6)\n",
      "semantic label shape: (1535040,)\n",
      "instance label shape: (1535040,)\n",
      "scene data path: /home/coder/databox1/datasets/S3DIS/ASIS/S3DIS/4096/scenes/Area_1_conferenceRoom_2.npy\n"
     ]
    },
    {
     "data": {
      "application/vnd.jupyter.widget-view+json": {
       "model_id": "a1c90c4a09c542f4a76d43758e315044",
       "version_major": 2,
       "version_minor": 0
      },
      "text/plain": [
       "Output()"
      ]
     },
     "metadata": {},
     "output_type": "display_data"
    },
    {
     "name": "stderr",
     "output_type": "stream",
     "text": [
      "/home/coder/anaconda3/envs/py37/lib/python3.7/site-packages/traittypes/traittypes.py:101: UserWarning: Given trait value dtype \"float64\" does not match required type \"float32\". A coerced copy has been created.\n",
      "  np.dtype(self.dtype).name))\n",
      "/home/coder/anaconda3/envs/py37/lib/python3.7/site-packages/traittypes/traittypes.py:101: UserWarning: Given trait value dtype \"float32\" does not match required type \"uint32\". A coerced copy has been created.\n",
      "  np.dtype(self.dtype).name))\n"
     ]
    }
   ],
   "source": [
    "train_dataset = S3DIS.S3DISSceneDataset(\n",
    "    dataset_path=\"/home/coder/databox1/datasets/S3DIS/ASIS/S3DIS/4096/scenes/\",\n",
    "    split=\"train\",\n",
    "    test_area=5\n",
    ")\n",
    "\n",
    "# get block data\n",
    "point_cloud, sem_labels, ins_labels, scene_path = train_dataset[2]\n",
    "\n",
    "print(\"point cloud shape:\", point_cloud.shape)\n",
    "print(\"semantic label shape:\", sem_labels.shape)\n",
    "print(\"instance label shape:\", ins_labels.shape)\n",
    "print(\"scene data path:\", scene_path)\n",
    "\n",
    "# get coords\n",
    "coords = point_cloud[:, 0:3]\n",
    "# get color codes\n",
    "colors = point_cloud[:, 3:6]\n",
    "colors = colors.astype(np.int32)\n",
    "colors_code = colors[:, 0]*256*256 + colors[:,1]*256 + colors[:,2] # to color code\n",
    "\n",
    "# visualize point cloud\n",
    "plot = k3d.plot()\n",
    "points = k3d.points(coords, colors_code.astype(np.float32), point_size=0.02, shader='flat')\n",
    "plot += points\n",
    "plot.display()\n"
   ]
  },
  {
   "cell_type": "markdown",
   "metadata": {},
   "source": [
    "## Saving scene point cloud data with PLY format\n"
   ]
  },
  {
   "cell_type": "code",
   "execution_count": 5,
   "metadata": {},
   "outputs": [
    {
     "name": "stdout",
     "output_type": "stream",
     "text": [
      "Area_1_conferenceRoom_2\n"
     ]
    }
   ],
   "source": [
    "from torchpcp.utils.io.ply import write_pc, write_pc_label\n",
    "\n",
    "room_name = scene_path.split(\"/\")[-1][:-4]\n",
    "print(room_name)\n",
    "\n",
    "write_pc(room_name + \".ply\", coords, colors)\n",
    "write_pc_label(room_name + \"_gt_sem.ply\", coords, sem_labels.astype(np.int32))\n",
    "write_pc_label(room_name + \"_gt_ins.ply\", coords, ins_labels.astype(np.int32))\n"
   ]
  },
  {
   "cell_type": "markdown",
   "metadata": {},
   "source": [
    "## Junk codes\n"
   ]
  },
  {
   "cell_type": "code",
   "execution_count": 31,
   "metadata": {},
   "outputs": [],
   "source": [
    "# get boundary\n",
    "from torchpcp.modules import functional as F\n",
    "import torch\n",
    "\n",
    "batch_coords = torch.tensor([coords], dtype=torch.float32, device=\"cuda\")\n",
    "batch_coords = torch.transpose(batch_coords, 1, 2)\n",
    "k = 32\n",
    "\n",
    "bq_coords_indexes = F.nns.ball_query(batch_coords, batch_coords, 0.1, k)\n"
   ]
  },
  {
   "cell_type": "code",
   "execution_count": 32,
   "metadata": {},
   "outputs": [],
   "source": [
    "source = bq_coords_indexes[:,:,0:1].repeat(1,1,k-1) # get center points of kNN\n",
    "target = bq_coords_indexes[:,:,1:] # remove center points of kNN\n",
    "\n",
    "row_source = F.other.index2row(source)\n",
    "row_target = F.other.index2row(target)\n",
    "\n",
    "row_ins_labels = torch.tensor([ins_labels]).view(-1)\n",
    "\n",
    "row_source_labels = row_ins_labels[row_source]\n",
    "row_target_labels = row_ins_labels[row_target]\n",
    "\n",
    "transition = row_source_labels != row_target_labels\n"
   ]
  },
  {
   "cell_type": "code",
   "execution_count": 33,
   "metadata": {},
   "outputs": [],
   "source": [
    "B, C, N = batch_coords.shape\n",
    "bt = transition.view(B, N, -1).to(dtype=torch.long)\n",
    "bt, _ = torch.max(bt, dim=-1)\n"
   ]
  },
  {
   "cell_type": "code",
   "execution_count": 34,
   "metadata": {},
   "outputs": [
    {
     "data": {
      "application/vnd.jupyter.widget-view+json": {
       "model_id": "c983fce98d7c4ce9b6d8bcd2b30be353",
       "version_major": 2,
       "version_minor": 0
      },
      "text/plain": [
       "Output()"
      ]
     },
     "metadata": {},
     "output_type": "display_data"
    }
   ],
   "source": [
    "from torchpcp.utils import converter\n",
    "from torchpcp.utils.pytorch_tools import t2n\n",
    "\n",
    "# print(bt.shape)\n",
    "\n",
    "colors_bt = converter.label_to_color(t2n(bt[0]))\n",
    "colors_bt = colors_bt[:, 0]*256*256 + colors_bt[:,1]*256 + colors_bt[:,2] # to color code\n",
    "# print(coords.shape)\n",
    "# print(colors_bt.shape)\n",
    "# visualize point cloud\n",
    "plot = k3d.plot()\n",
    "points = k3d.points(coords, colors_bt.astype(np.float32), point_size=0.02, shader='flat')\n",
    "plot += points\n",
    "plot.display()\n"
   ]
  },
  {
   "cell_type": "code",
   "execution_count": 11,
   "metadata": {},
   "outputs": [
    {
     "name": "stdout",
     "output_type": "stream",
     "text": [
      "point cloud shape: (132, 4096, 9)\n",
      "semantic label shape: (132, 4096)\n",
      "instance label shape: (132, 4096)\n"
     ]
    },
    {
     "data": {
      "application/vnd.jupyter.widget-view+json": {
       "model_id": "952e54054a69429390b5c03b5856d2d9",
       "version_major": 2,
       "version_minor": 0
      },
      "text/plain": [
       "Output()"
      ]
     },
     "metadata": {},
     "output_type": "display_data"
    }
   ],
   "source": [
    "# get block point clouds from scene data\n",
    "num_points = 4096\n",
    "block_size = 1.0\n",
    "stride = 0.5\n",
    "point_clouds, sem_labels, ins_labels = room2blocks_wrapper_normalized(scene_path, num_points, block_size=block_size, stride=stride, random_sample=False, sample_num=None)\n",
    "\n",
    "print(\"point cloud shape:\", point_clouds.shape)\n",
    "print(\"semantic label shape:\", sem_labels.shape)\n",
    "print(\"instance label shape:\", ins_labels.shape)\n",
    "\n",
    "# get a block point cloud\n",
    "point_cloud = point_clouds[0]\n",
    "# get coords\n",
    "coords = point_cloud[:, 0:3]\n",
    "# get color codes\n",
    "colors = point_cloud[:, 3:6] * 255\n",
    "colors = colors.astype(np.int32)\n",
    "colors = colors[:, 0]*256*256 + colors[:,1]*256 + colors[:,2] # to color code\n",
    "\n",
    "# visualize point cloud\n",
    "plot = k3d.plot()\n",
    "points = k3d.points(coords, colors.astype(np.float32), point_size=0.02, shader='flat')\n",
    "plot += points\n",
    "plot.display()\n",
    "\n"
   ]
  },
  {
   "cell_type": "markdown",
   "metadata": {},
   "source": [
    "## assign labels to the point cloud"
   ]
  },
  {
   "cell_type": "code",
   "execution_count": 10,
   "metadata": {},
   "outputs": [
    {
     "data": {
      "application/vnd.jupyter.widget-view+json": {
       "model_id": "c1d677e52521425798891580ab111222",
       "version_major": 2,
       "version_minor": 0
      },
      "text/plain": [
       "Output()"
      ]
     },
     "metadata": {},
     "output_type": "display_data"
    }
   ],
   "source": [
    "train_dataset = S3DIS.S3DISSceneDataset(\n",
    "    dataset_path=\"/mnt/databox/datasets/S3DIS/ASIS/S3DIS/4096/scenes/\",\n",
    "    split=\"train\",\n",
    "    test_area=5\n",
    ")\n",
    "\n",
    "# get block data\n",
    "point_cloud, sem_labels, ins_labels, scene_path = train_dataset[2]\n",
    "\n",
    "# get coords\n",
    "coords = point_cloud[:, 0:3]\n",
    "# create label colors\n",
    "colors = label_to_color(ins_labels.astype(np.int32))\n",
    "# colors = point_cloud[:, 3:6]\n",
    "colors = colors.astype(np.int32)\n",
    "colors = colors[:, 0]*256*256 + colors[:,1]*256 + colors[:,2] # to color code\n",
    "\n",
    "# visualize point cloud\n",
    "plot = k3d.plot()\n",
    "points = k3d.points(coords, colors.astype(np.float32), point_size=0.02, shader='flat')\n",
    "plot += points\n",
    "plot.display()\n"
   ]
  },
  {
   "cell_type": "code",
   "execution_count": null,
   "metadata": {},
   "outputs": [],
   "source": []
  }
 ],
 "metadata": {
  "kernelspec": {
   "display_name": "Python 3",
   "language": "python",
   "name": "python3"
  },
  "language_info": {
   "codemirror_mode": {
    "name": "ipython",
    "version": 3
   },
   "file_extension": ".py",
   "mimetype": "text/x-python",
   "name": "python",
   "nbconvert_exporter": "python",
   "pygments_lexer": "ipython3",
   "version": "3.7.9"
  }
 },
 "nbformat": 4,
 "nbformat_minor": 4
}
