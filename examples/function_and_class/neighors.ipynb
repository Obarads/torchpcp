{
 "cells": [
  {
   "cell_type": "code",
   "execution_count": 1,
   "metadata": {},
   "outputs": [],
   "source": [
    "%load_ext autoreload\n",
    "%autoreload 2"
   ]
  },
  {
   "cell_type": "code",
   "execution_count": 2,
   "metadata": {},
   "outputs": [],
   "source": [
    "import torch\n",
    "import numpy as np\n",
    "import k3d\n",
    "\n",
    "# from libs import tpcpath\n",
    "from torchpcp.utils import pytorch_tools\n",
    "pytorch_tools.set_seed(0)\n",
    "device = pytorch_tools.select_device(\"cuda\")\n"
   ]
  },
  {
   "cell_type": "code",
   "execution_count": 3,
   "metadata": {},
   "outputs": [],
   "source": [
    "def visualize_pc(pc, colors=None):\n",
    "    if colors is None:\n",
    "        colors = np.full(len(pc), 0x000000, dtype=np.float64) # white: 0xFFFFFF\n",
    "    plot = k3d.plot()\n",
    "    points = k3d.points(pc, colors.astype(np.float32), point_size=0.04, shader='flat')\n",
    "    plot += points\n",
    "    plot.display()\n"
   ]
  },
  {
   "cell_type": "markdown",
   "metadata": {},
   "source": [
    "## get point cloud dataset"
   ]
  },
  {
   "cell_type": "code",
   "execution_count": 4,
   "metadata": {},
   "outputs": [],
   "source": [
    "from libs.dataset import SimpleObjectDataset"
   ]
  },
  {
   "cell_type": "code",
   "execution_count": 8,
   "metadata": {},
   "outputs": [
    {
     "name": "stderr",
     "output_type": "stream",
     "text": [
      "/home/coder/anaconda3/envs/py37/lib/python3.7/site-packages/traittypes/traittypes.py:101: UserWarning: Given trait value dtype \"float32\" does not match required type \"uint32\". A coerced copy has been created.\n",
      "  np.dtype(self.dtype).name))\n"
     ]
    },
    {
     "data": {
      "application/vnd.jupyter.widget-view+json": {
       "model_id": "3ad7897204f5482994218a8fc3386a92",
       "version_major": 2,
       "version_minor": 0
      },
      "text/plain": [
       "Output()"
      ]
     },
     "metadata": {},
     "output_type": "display_data"
    }
   ],
   "source": [
    "file_path = \"/home/coder/databox1/datasets/ModelNet/modelnet40_ply_hdf5_2048/ply_data_train0.h5\"\n",
    "dataset = SimpleObjectDataset(file_path=file_path)\n",
    "pc, label = dataset[0]\n",
    "visualize_pc(pc)\n"
   ]
  },
  {
   "cell_type": "markdown",
   "metadata": {},
   "source": [
    "## get FPS points"
   ]
  },
  {
   "cell_type": "code",
   "execution_count": 10,
   "metadata": {},
   "outputs": [],
   "source": [
    "from torchpcp.modules.functional.sampling import furthest_point_sampling\n",
    "from torchpcp.modules.functional.other import index2points"
   ]
  },
  {
   "cell_type": "code",
   "execution_count": 11,
   "metadata": {},
   "outputs": [
    {
     "data": {
      "application/vnd.jupyter.widget-view+json": {
       "model_id": "104fd36018284e7f8da3d1a3677b3a46",
       "version_major": 2,
       "version_minor": 0
      },
      "text/plain": [
       "Output()"
      ]
     },
     "metadata": {},
     "output_type": "display_data"
    }
   ],
   "source": [
    "t_pc = torch.tensor([pc])\n",
    "t_pc = t_pc.to(device)\n",
    "t_pc = t_pc.transpose(1,2)\n",
    "center_t_idxs = furthest_point_sampling(t_pc, 512)\n",
    "center_t_pc = index2points(t_pc, center_t_idxs)\n",
    "center_pc = pytorch_tools.t2n(center_t_pc.transpose(1,2)[0])\n",
    "visualize_pc(center_pc)\n"
   ]
  },
  {
   "cell_type": "markdown",
   "metadata": {},
   "source": [
    "## get KNN points"
   ]
  },
  {
   "cell_type": "code",
   "execution_count": 11,
   "metadata": {},
   "outputs": [],
   "source": [
    "from torchpcp.modules.functional.nns import k_nearest_neighbors as knn"
   ]
  },
  {
   "cell_type": "code",
   "execution_count": 12,
   "metadata": {},
   "outputs": [
    {
     "name": "stdout",
     "output_type": "stream",
     "text": [
      "knn_idxs.shape: torch.Size([1, 1024, 5])\n"
     ]
    }
   ],
   "source": [
    "knn_idxs, knn_dists = knn(t_pc, center_t_pc, 5)\n",
    "print(\"knn_idxs.shape:\", knn_idxs.shape)"
   ]
  },
  {
   "cell_type": "markdown",
   "metadata": {},
   "source": [
    "## compare C++ with python implementation."
   ]
  },
  {
   "cell_type": "code",
   "execution_count": 14,
   "metadata": {},
   "outputs": [],
   "source": [
    "from torchpcp.modules.functional.nns import py_k_nearest_neighbors\n",
    "from torchpcp.utils.monitor import timecheck"
   ]
  },
  {
   "cell_type": "code",
   "execution_count": 18,
   "metadata": {},
   "outputs": [
    {
     "name": "stdout",
     "output_type": "stream",
     "text": [
      "c++ impl. shape: torch.Size([1, 512, 3])\n",
      "c++ impl. time: 0.0173113346099853515625s\n"
     ]
    }
   ],
   "source": [
    "t = timecheck()\n",
    "knn_idxs, knn_dists = knn(center_t_pc, t_pc, 3)\n",
    "print(\"c++ impl. shape:\", knn_idxs.shape)\n",
    "t = timecheck(t, \"c++ impl. time\")"
   ]
  },
  {
   "cell_type": "code",
   "execution_count": 21,
   "metadata": {},
   "outputs": [
    {
     "name": "stdout",
     "output_type": "stream",
     "text": [
      "python impl. shape: torch.Size([1, 512, 3])\n",
      "python impl. time: 0.0191745758056640625s\n"
     ]
    }
   ],
   "source": [
    "t = timecheck()\n",
    "knn_idxs_py, knn_dists_py = py_k_nearest_neighbors(center_t_pc, t_pc, 3, True)\n",
    "print(\"python impl. shape:\", knn_idxs_py.shape)\n",
    "t = timecheck(t, \"python impl. time\")\n"
   ]
  },
  {
   "cell_type": "code",
   "execution_count": 30,
   "metadata": {},
   "outputs": [
    {
     "name": "stdout",
     "output_type": "stream",
     "text": [
      "False\n"
     ]
    }
   ],
   "source": [
    "# Check\n",
    "# np.set_printoptions(threshold=np.Inf)\n",
    "# torch.set_printoptions(threshold=np.Inf)\n",
    "print(False in (knn_idxs == knn_idxs_py))\n",
    "# print(knn_idxs == knn_idxs_py)"
   ]
  },
  {
   "cell_type": "markdown",
   "metadata": {},
   "source": [
    "## compare other implementation."
   ]
  },
  {
   "cell_type": "code",
   "execution_count": 28,
   "metadata": {},
   "outputs": [],
   "source": [
    "# PointRCNN impl. from https://github.com/sshaoshuai/PointRCNN\n",
    "import pointnet2_cuda as pointnet2\n",
    "from typing import Tuple\n",
    "class ThreeNN(torch.autograd.Function):\n",
    "\n",
    "    @staticmethod\n",
    "    def forward(ctx, unknown: torch.Tensor, known: torch.Tensor) -> Tuple[torch.Tensor, torch.Tensor]:\n",
    "        \"\"\"\n",
    "        Find the three nearest neighbors of unknown in known\n",
    "        :param ctx:\n",
    "        :param unknown: (B, N, 3)\n",
    "        :param known: (B, M, 3)\n",
    "        :return:\n",
    "            dist: (B, N, 3) l2 distance to the three nearest neighbors\n",
    "            idx: (B, N, 3) index of 3 nearest neighbors\n",
    "        \"\"\"\n",
    "        assert unknown.is_contiguous()\n",
    "        assert known.is_contiguous()\n",
    "\n",
    "        B, N, _ = unknown.size()\n",
    "        m = known.size(1)\n",
    "        dist2 = torch.cuda.FloatTensor(B, N, 3)\n",
    "        idx = torch.cuda.IntTensor(B, N, 3)\n",
    "\n",
    "        pointnet2.three_nn_wrapper(B, N, m, unknown, known, dist2, idx)\n",
    "        return torch.sqrt(dist2), idx\n",
    "\n",
    "    @staticmethod\n",
    "    def backward(ctx, a=None, b=None):\n",
    "        return None, None\n",
    "\n",
    "three_nn = ThreeNN.apply\n"
   ]
  },
  {
   "cell_type": "code",
   "execution_count": 32,
   "metadata": {},
   "outputs": [
    {
     "name": "stdout",
     "output_type": "stream",
     "text": [
      "other impl. time: 0.0165250301361083984375s\n",
      "False\n"
     ]
    }
   ],
   "source": [
    "t = timecheck()\n",
    "c_oth_dists, c_oth_idx = three_nn(center_t_pc.transpose(1,2).contiguous(), t_pc.transpose(1,2).contiguous())\n",
    "# print(c_oth_idx.shape)\n",
    "t = timecheck(t, \"other impl. time\")\n",
    "print(False in (c_oth_idx == knn_idxs))"
   ]
  },
  {
   "cell_type": "markdown",
   "metadata": {},
   "source": [
    "## compare implementations using scene data batches."
   ]
  },
  {
   "cell_type": "code",
   "execution_count": 15,
   "metadata": {},
   "outputs": [],
   "source": [
    "from libs.dataset import SimpleSceneDataset\n",
    "from torch.utils.data import DataLoader"
   ]
  },
  {
   "cell_type": "code",
   "execution_count": 20,
   "metadata": {},
   "outputs": [],
   "source": [
    "def speed_test(method, loader):\n",
    "    for i, data in enumerate(loader): pass # for speed processing\n",
    "    \n",
    "    # print name\n",
    "    if method == 0:\n",
    "        t_name = \"original c++ impl. time\"\n",
    "    elif method == 1:\n",
    "        t_name = \"original py impl. time\"\n",
    "    elif method == 2:\n",
    "        t_name = \"other c++ impl. time\"\n",
    "    else:\n",
    "        raise NotImplementedError()\n",
    "\n",
    "    # timer start\n",
    "    t = timecheck()\n",
    "    for _ in range(100):\n",
    "        for i, data in enumerate(loader):\n",
    "            point_clouds, sem_labels, ins_labels = data\n",
    "            point_clouds = point_clouds[:, :3].to(device)\n",
    "            center_idxs = furthest_point_sample(point_clouds, 1024)\n",
    "            center_pc = index2points(point_clouds, center_idxs)\n",
    "            if method == 0:\n",
    "                _ = knn(center_points, point_clouds, k=3)\n",
    "            elif method == 1:\n",
    "                _ = py_k_nearest_neighbors(center_pc, point_clouds, k=3, memory_saving=False)\n",
    "            elif method == 2:\n",
    "                _ = three_nn(center_pc.transpose(1,2).contiguous(), point_clouds.transpose(1,2).contiguous())\n",
    "            else:\n",
    "                raise NotImplementedError()\n",
    "    # timer end\n",
    "    timecheck(t, t_name)\n",
    "        "
   ]
  },
  {
   "cell_type": "code",
   "execution_count": 21,
   "metadata": {},
   "outputs": [],
   "source": [
    "dataset = SimpleSceneDataset()\n",
    "loader = DataLoader(\n",
    "    dataset,\n",
    "    batch_size=32,\n",
    "    num_workers=8,\n",
    "    pin_memory=True,\n",
    "    shuffle=False\n",
    ")"
   ]
  },
  {
   "cell_type": "code",
   "execution_count": 27,
   "metadata": {},
   "outputs": [
    {
     "name": "stdout",
     "output_type": "stream",
     "text": [
      "original c++ impl. time: 22.93700408935546875s\n"
     ]
    }
   ],
   "source": [
    "speed_test(0, loader)"
   ]
  },
  {
   "cell_type": "code",
   "execution_count": 28,
   "metadata": {},
   "outputs": [
    {
     "name": "stdout",
     "output_type": "stream",
     "text": [
      "original py impl. time: 22.9990055561065673828125s\n"
     ]
    }
   ],
   "source": [
    "speed_test(1, loader)"
   ]
  },
  {
   "cell_type": "code",
   "execution_count": 29,
   "metadata": {},
   "outputs": [
    {
     "name": "stdout",
     "output_type": "stream",
     "text": [
      "other c++ impl. time: 23.0654144287109375s\n"
     ]
    }
   ],
   "source": [
    "speed_test(2, loader)"
   ]
  },
  {
   "cell_type": "code",
   "execution_count": null,
   "metadata": {},
   "outputs": [],
   "source": []
  },
  {
   "cell_type": "code",
   "execution_count": null,
   "metadata": {},
   "outputs": [],
   "source": []
  }
 ],
 "metadata": {
  "kernelspec": {
   "display_name": "Python 3",
   "language": "python",
   "name": "python3"
  },
  "language_info": {
   "codemirror_mode": {
    "name": "ipython",
    "version": 3
   },
   "file_extension": ".py",
   "mimetype": "text/x-python",
   "name": "python",
   "nbconvert_exporter": "python",
   "pygments_lexer": "ipython3",
   "version": "3.7.9"
  }
 },
 "nbformat": 4,
 "nbformat_minor": 4
}
