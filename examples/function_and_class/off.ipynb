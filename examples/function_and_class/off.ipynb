{
 "cells": [
  {
   "cell_type": "markdown",
   "metadata": {},
   "source": [
    "# off_toolkit examples\n",
    "- This code is examples of `torchpcp.utils2.io.off`."
   ]
  },
  {
   "cell_type": "markdown",
   "metadata": {},
   "source": [
    "## install a package\n",
    "- [k3d](https://github.com/K3D-tools/K3D-jupyter): visualizer"
   ]
  },
  {
   "cell_type": "markdown",
   "metadata": {},
   "source": [
    "## import packages and define values\n",
    "- dataset_path: dataset path of [ModelNet40](https://modelnet.cs.princeton.edu/)"
   ]
  },
  {
   "cell_type": "code",
   "execution_count": 2,
   "metadata": {},
   "outputs": [],
   "source": [
    "import os, sys\n",
    "# BASE_DIR = os.path.dirname(os.path.abspath(__file__)) # for .py\n",
    "BASE_DIR = os.path.abspath('') # for .ipynb\n",
    "sys.path.append(os.path.abspath(os.path.join(BASE_DIR, \"../../\"))) # for torchpcp package path\n",
    "\n",
    "from torchpcp.utils.io import off\n",
    "import k3d\n",
    "import numpy as np\n"
   ]
  },
  {
   "cell_type": "code",
   "execution_count": 3,
   "metadata": {},
   "outputs": [],
   "source": [
    "# dataset_path = \"/home/coder/databox/datasets/ModelNet/ModelNet40/\"\n",
    "dataset_path = \"/home/coder/databox1/datasets/ModelNet/ModelNet40\""
   ]
  },
  {
   "cell_type": "markdown",
   "metadata": {},
   "source": [
    "## load a off file\n",
    "- use off_toolkit.read"
   ]
  },
  {
   "cell_type": "code",
   "execution_count": 4,
   "metadata": {
    "tags": []
   },
   "outputs": [
    {
     "name": "stderr",
     "output_type": "stream",
     "text": [
      "/home/coder/anaconda3/envs/py37/lib/python3.7/site-packages/traittypes/traittypes.py:101: UserWarning: Given trait value dtype \"float32\" does not match required type \"uint32\". A coerced copy has been created.\n",
      "  np.dtype(self.dtype).name))\n"
     ]
    },
    {
     "data": {
      "application/vnd.jupyter.widget-view+json": {
       "model_id": "9166dfda3a3c4c67a18ff00a85aeba89",
       "version_major": 2,
       "version_minor": 0
      },
      "text/plain": [
       "Output()"
      ]
     },
     "metadata": {},
     "output_type": "display_data"
    }
   ],
   "source": [
    "# load vertices and faces\n",
    "vertices, faces = off.read(os.path.join(dataset_path, \"airplane/train/airplane_0001.off\"))\n",
    "vertices = np.array(vertices, dtype=np.float32)\n",
    "colors = np.full(len(vertices), 0x000000, dtype=np.float64) # white: 0xFFFFFF\n",
    "\n",
    "# visualize vertices\n",
    "plot = k3d.plot()\n",
    "points = k3d.points(vertices, colors.astype(np.float32), point_size=3.0, shader='flat')\n",
    "plot += points\n",
    "plot.display()\n"
   ]
  },
  {
   "cell_type": "code",
   "execution_count": null,
   "metadata": {},
   "outputs": [],
   "source": []
  }
 ],
 "metadata": {
  "kernelspec": {
   "display_name": "Python 3",
   "language": "python",
   "name": "python3"
  },
  "language_info": {
   "codemirror_mode": {
    "name": "ipython",
    "version": 3
   },
   "file_extension": ".py",
   "mimetype": "text/x-python",
   "name": "python",
   "nbconvert_exporter": "python",
   "pygments_lexer": "ipython3",
   "version": "3.7.9"
  }
 },
 "nbformat": 4,
 "nbformat_minor": 4
}
